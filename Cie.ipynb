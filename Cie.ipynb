{
  "nbformat": 4,
  "nbformat_minor": 0,
  "metadata": {
    "colab": {
      "provenance": [],
      "toc_visible": true,
      "authorship_tag": "ABX9TyPDcRgkkHI5dsCtD3x8faa/",
      "include_colab_link": true
    },
    "kernelspec": {
      "name": "python3",
      "display_name": "Python 3"
    },
    "language_info": {
      "name": "python"
    }
  },
  "cells": [
    {
      "cell_type": "markdown",
      "metadata": {
        "id": "view-in-github",
        "colab_type": "text"
      },
      "source": [
        "<a href=\"https://colab.research.google.com/github/capnmav77/CIE_ml/blob/main/Cie.ipynb\" target=\"_parent\"><img src=\"https://colab.research.google.com/assets/colab-badge.svg\" alt=\"Open In Colab\"/></a>"
      ]
    },
    {
      "cell_type": "code",
      "execution_count": null,
      "metadata": {
        "id": "gIp0E4yiMURS"
      },
      "outputs": [],
      "source": []
    },
    {
      "cell_type": "markdown",
      "source": [],
      "metadata": {
        "id": "rbz7I5SJUspD"
      }
    },
    {
      "cell_type": "markdown",
      "source": [],
      "metadata": {
        "id": "sOFJ7CnwMfnh"
      }
    },
    {
      "cell_type": "markdown",
      "source": [
        "Machine learning, "
      ],
      "metadata": {
        "id": "RAN8Mf6OMd9h"
      }
    },
    {
      "cell_type": "code",
      "source": [],
      "metadata": {
        "id": "aHOFBL-XMtnL"
      },
      "execution_count": null,
      "outputs": []
    }
  ]
}