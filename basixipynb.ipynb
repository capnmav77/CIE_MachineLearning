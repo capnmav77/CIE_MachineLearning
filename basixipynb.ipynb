{
  "nbformat": 4,
  "nbformat_minor": 0,
  "metadata": {
    "colab": {
      "provenance": [],
      "authorship_tag": "ABX9TyO98DbhfF3Sm+TH/Upn/Njv",
      "include_colab_link": true
    },
    "kernelspec": {
      "name": "python3",
      "display_name": "Python 3"
    },
    "language_info": {
      "name": "python"
    }
  },
  "cells": [
    {
      "cell_type": "markdown",
      "metadata": {
        "id": "view-in-github",
        "colab_type": "text"
      },
      "source": [
        "<a href=\"https://colab.research.google.com/github/capnmav77/CIE_ml/blob/main/basixipynb.ipynb\" target=\"_parent\"><img src=\"https://colab.research.google.com/assets/colab-badge.svg\" alt=\"Open In Colab\"/></a>"
      ]
    },
    {
      "cell_type": "markdown",
      "source": [
        "Machine learning, "
      ],
      "metadata": {
        "id": "RAN8Mf6OMd9h"
      }
    },
    {
      "cell_type": "code",
      "source": [
        "import pandas as pd \n",
        "a=10\n",
        "b=20\n",
        "print(a+b)\n"
      ],
      "metadata": {
        "id": "aHOFBL-XMtnL",
        "colab": {
          "base_uri": "https://localhost:8080/"
        },
        "outputId": "fad29b29-327a-4eeb-a9cb-723c2210b36a"
      },
      "execution_count": 6,
      "outputs": [
        {
          "output_type": "stream",
          "name": "stdout",
          "text": [
            "30\n"
          ]
        }
      ]
    },
    {
      "cell_type": "markdown",
      "source": [
        "pandas is used to organise the data efficiently "
      ],
      "metadata": {
        "id": "eE6N3XSlby90"
      }
    },
    {
      "cell_type": "code",
      "source": [
        "import pandas as pd\n",
        "step_data = [3620,7891,9761,\n",
        "             3907,4338,5373]\n",
        "step_counts = pd.Series(step_data,name='steps')\n",
        "print(step_counts)"
      ],
      "metadata": {
        "colab": {
          "base_uri": "https://localhost:8080/"
        },
        "id": "aCM2pbo1ae_-",
        "outputId": "d97b83c3-77a6-47f5-9fca-75b5f265b817"
      },
      "execution_count": 7,
      "outputs": [
        {
          "output_type": "stream",
          "name": "stdout",
          "text": [
            "0    3620\n",
            "1    7891\n",
            "2    9761\n",
            "3    3907\n",
            "4    4338\n",
            "5    5373\n",
            "Name: steps, dtype: int64\n"
          ]
        }
      ]
    },
    {
      "cell_type": "markdown",
      "source": [
        "we map the index of the date to the step count and increment the days upto 6 days"
      ],
      "metadata": {
        "id": "zWG8Z3Z5dLsI"
      }
    },
    {
      "cell_type": "code",
      "source": [
        "step_counts.index = pd.date_range('20210223',periods = 6)\n",
        "print(step_counts)"
      ],
      "metadata": {
        "colab": {
          "base_uri": "https://localhost:8080/"
        },
        "id": "ImWXiyo4cFed",
        "outputId": "68c2592c-fa4b-4a8f-a275-9922cb0a41a1"
      },
      "execution_count": 8,
      "outputs": [
        {
          "output_type": "stream",
          "name": "stdout",
          "text": [
            "2021-02-23    3620\n",
            "2021-02-24    7891\n",
            "2021-02-25    9761\n",
            "2021-02-26    3907\n",
            "2021-02-27    4338\n",
            "2021-02-28    5373\n",
            "Freq: D, Name: steps, dtype: int64\n"
          ]
        }
      ]
    },
    {
      "cell_type": "markdown",
      "source": [
        "in case we need a key value pair , we use it like a dictonary and to get the type of data we are using we use the below code."
      ],
      "metadata": {
        "id": "UymhWWB0dEQ2"
      }
    },
    {
      "cell_type": "code",
      "source": [
        "print(step_counts['2021-02-24'])\n",
        "print(step_counts.dtypes)"
      ],
      "metadata": {
        "colab": {
          "base_uri": "https://localhost:8080/"
        },
        "id": "_7s604aZc7vV",
        "outputId": "d48dad65-9a09-4d84-cbde-cca265465b06"
      },
      "execution_count": 9,
      "outputs": [
        {
          "output_type": "stream",
          "name": "stdout",
          "text": [
            "7891\n",
            "int64\n"
          ]
        }
      ]
    },
    {
      "cell_type": "code",
      "source": [
        "#creating invalid data\n",
        "import numpy as np\n",
        "step_counts[1:3] = np.NaN\n",
        "\n",
        "#filling it with zeros\n",
        "step_counts =step_counts.fillna(0.)\n",
        "#equivalently \n",
        "#step_counts.fillna(0.,inplace =True)\n",
        "\n",
        "print(step_counts[1:3])"
      ],
      "metadata": {
        "colab": {
          "base_uri": "https://localhost:8080/"
        },
        "id": "FzrbHhwWdyGr",
        "outputId": "71e381d1-4cc6-4c3c-d099-cb950e9b79e5"
      },
      "execution_count": 10,
      "outputs": [
        {
          "output_type": "stream",
          "name": "stdout",
          "text": [
            "2021-02-24    0.0\n",
            "2021-02-25    0.0\n",
            "Freq: D, Name: steps, dtype: float64\n"
          ]
        }
      ]
    },
    {
      "cell_type": "markdown",
      "source": [
        "creating a 2d array of multiple data we use zip and converting to 2d array we use dataframe"
      ],
      "metadata": {
        "id": "rWHjoOXJfDJW"
      }
    },
    {
      "cell_type": "code",
      "source": [
        "cycling_data = [10.7,0,None,2.4,15.3,10.9,0,None]\n",
        "joined_data = list(zip(step_data,cycling_data))#using to zip both step and cycling data\n",
        "activity_df = pd.DataFrame(joined_data)#combining both data into a 2d frame \n",
        "print(activity_df)"
      ],
      "metadata": {
        "colab": {
          "base_uri": "https://localhost:8080/"
        },
        "id": "8mmg5ADveTn2",
        "outputId": "1e352178-7750-4b4a-973f-3a5a8ba1d057"
      },
      "execution_count": 11,
      "outputs": [
        {
          "output_type": "stream",
          "name": "stdout",
          "text": [
            "      0     1\n",
            "0  3620  10.7\n",
            "1  7891   0.0\n",
            "2  9761   NaN\n",
            "3  3907   2.4\n",
            "4  4338  15.3\n",
            "5  5373  10.9\n"
          ]
        }
      ]
    },
    {
      "cell_type": "code",
      "source": [
        "print(activity_df.loc[3])"
      ],
      "metadata": {
        "colab": {
          "base_uri": "https://localhost:8080/"
        },
        "id": "yLwf9E5-flum",
        "outputId": "9f5ead26-06cc-476d-e63e-95db72ebc726"
      },
      "execution_count": 12,
      "outputs": [
        {
          "output_type": "stream",
          "name": "stdout",
          "text": [
            "0    3907.0\n",
            "1       2.4\n",
            "Name: 3, dtype: float64\n"
          ]
        }
      ]
    },
    {
      "cell_type": "markdown",
      "source": [
        "we need to alter the cols and rows "
      ],
      "metadata": {
        "id": "SAqz3i6_gldy"
      }
    },
    {
      "cell_type": "code",
      "source": [
        "activity_df = pd.DataFrame(joined_data,index = pd.date_range('20210223',periods = 6),columns=['walking','cycling'])\n",
        "print(activity_df)"
      ],
      "metadata": {
        "colab": {
          "base_uri": "https://localhost:8080/"
        },
        "id": "UknT2VPlgHVN",
        "outputId": "b9ec9099-ba13-41c8-9d98-ce2fad157f91"
      },
      "execution_count": 13,
      "outputs": [
        {
          "output_type": "stream",
          "name": "stdout",
          "text": [
            "            walking  cycling\n",
            "2021-02-23     3620     10.7\n",
            "2021-02-24     7891      0.0\n",
            "2021-02-25     9761      NaN\n",
            "2021-02-26     3907      2.4\n",
            "2021-02-27     4338     15.3\n",
            "2021-02-28     5373     10.9\n"
          ]
        }
      ]
    },
    {
      "cell_type": "code",
      "source": [
        "print(activity_df.walking)#since python is a oop we can use this "
      ],
      "metadata": {
        "colab": {
          "base_uri": "https://localhost:8080/"
        },
        "id": "z_9fbr6hgqdD",
        "outputId": "e6f9d172-1fe6-498f-fa1e-a60a837a93ae"
      },
      "execution_count": 14,
      "outputs": [
        {
          "output_type": "stream",
          "name": "stdout",
          "text": [
            "2021-02-23    3620\n",
            "2021-02-24    7891\n",
            "2021-02-25    9761\n",
            "2021-02-26    3907\n",
            "2021-02-27    4338\n",
            "2021-02-28    5373\n",
            "Freq: D, Name: walking, dtype: int64\n"
          ]
        }
      ]
    },
    {
      "cell_type": "markdown",
      "source": [
        "loading data:"
      ],
      "metadata": {
        "id": "y3_3-Eo7g-Ig"
      }
    },
    {
      "cell_type": "code",
      "source": [
        "data = pd.read_csv('/content/iris.csv')\n",
        "data"
      ],
      "metadata": {
        "colab": {
          "base_uri": "https://localhost:8080/",
          "height": 423
        },
        "id": "RTmmNkHOhA6X",
        "outputId": "0d35d73f-31ad-4786-ee91-e59e700c9dc6"
      },
      "execution_count": 15,
      "outputs": [
        {
          "output_type": "execute_result",
          "data": {
            "text/plain": [
              "     sepal.length  sepal.width  petal.length  petal.width    variety\n",
              "0             5.1          3.5           1.4          0.2     Setosa\n",
              "1             4.9          3.0           1.4          0.2     Setosa\n",
              "2             4.7          3.2           1.3          0.2     Setosa\n",
              "3             4.6          3.1           1.5          0.2     Setosa\n",
              "4             5.0          3.6           1.4          0.2     Setosa\n",
              "..            ...          ...           ...          ...        ...\n",
              "145           6.7          3.0           5.2          2.3  Virginica\n",
              "146           6.3          2.5           5.0          1.9  Virginica\n",
              "147           6.5          3.0           5.2          2.0  Virginica\n",
              "148           6.2          3.4           5.4          2.3  Virginica\n",
              "149           5.9          3.0           5.1          1.8  Virginica\n",
              "\n",
              "[150 rows x 5 columns]"
            ],
            "text/html": [
              "\n",
              "  <div id=\"df-9f306869-7229-435c-9a2a-af1231f5b760\">\n",
              "    <div class=\"colab-df-container\">\n",
              "      <div>\n",
              "<style scoped>\n",
              "    .dataframe tbody tr th:only-of-type {\n",
              "        vertical-align: middle;\n",
              "    }\n",
              "\n",
              "    .dataframe tbody tr th {\n",
              "        vertical-align: top;\n",
              "    }\n",
              "\n",
              "    .dataframe thead th {\n",
              "        text-align: right;\n",
              "    }\n",
              "</style>\n",
              "<table border=\"1\" class=\"dataframe\">\n",
              "  <thead>\n",
              "    <tr style=\"text-align: right;\">\n",
              "      <th></th>\n",
              "      <th>sepal.length</th>\n",
              "      <th>sepal.width</th>\n",
              "      <th>petal.length</th>\n",
              "      <th>petal.width</th>\n",
              "      <th>variety</th>\n",
              "    </tr>\n",
              "  </thead>\n",
              "  <tbody>\n",
              "    <tr>\n",
              "      <th>0</th>\n",
              "      <td>5.1</td>\n",
              "      <td>3.5</td>\n",
              "      <td>1.4</td>\n",
              "      <td>0.2</td>\n",
              "      <td>Setosa</td>\n",
              "    </tr>\n",
              "    <tr>\n",
              "      <th>1</th>\n",
              "      <td>4.9</td>\n",
              "      <td>3.0</td>\n",
              "      <td>1.4</td>\n",
              "      <td>0.2</td>\n",
              "      <td>Setosa</td>\n",
              "    </tr>\n",
              "    <tr>\n",
              "      <th>2</th>\n",
              "      <td>4.7</td>\n",
              "      <td>3.2</td>\n",
              "      <td>1.3</td>\n",
              "      <td>0.2</td>\n",
              "      <td>Setosa</td>\n",
              "    </tr>\n",
              "    <tr>\n",
              "      <th>3</th>\n",
              "      <td>4.6</td>\n",
              "      <td>3.1</td>\n",
              "      <td>1.5</td>\n",
              "      <td>0.2</td>\n",
              "      <td>Setosa</td>\n",
              "    </tr>\n",
              "    <tr>\n",
              "      <th>4</th>\n",
              "      <td>5.0</td>\n",
              "      <td>3.6</td>\n",
              "      <td>1.4</td>\n",
              "      <td>0.2</td>\n",
              "      <td>Setosa</td>\n",
              "    </tr>\n",
              "    <tr>\n",
              "      <th>...</th>\n",
              "      <td>...</td>\n",
              "      <td>...</td>\n",
              "      <td>...</td>\n",
              "      <td>...</td>\n",
              "      <td>...</td>\n",
              "    </tr>\n",
              "    <tr>\n",
              "      <th>145</th>\n",
              "      <td>6.7</td>\n",
              "      <td>3.0</td>\n",
              "      <td>5.2</td>\n",
              "      <td>2.3</td>\n",
              "      <td>Virginica</td>\n",
              "    </tr>\n",
              "    <tr>\n",
              "      <th>146</th>\n",
              "      <td>6.3</td>\n",
              "      <td>2.5</td>\n",
              "      <td>5.0</td>\n",
              "      <td>1.9</td>\n",
              "      <td>Virginica</td>\n",
              "    </tr>\n",
              "    <tr>\n",
              "      <th>147</th>\n",
              "      <td>6.5</td>\n",
              "      <td>3.0</td>\n",
              "      <td>5.2</td>\n",
              "      <td>2.0</td>\n",
              "      <td>Virginica</td>\n",
              "    </tr>\n",
              "    <tr>\n",
              "      <th>148</th>\n",
              "      <td>6.2</td>\n",
              "      <td>3.4</td>\n",
              "      <td>5.4</td>\n",
              "      <td>2.3</td>\n",
              "      <td>Virginica</td>\n",
              "    </tr>\n",
              "    <tr>\n",
              "      <th>149</th>\n",
              "      <td>5.9</td>\n",
              "      <td>3.0</td>\n",
              "      <td>5.1</td>\n",
              "      <td>1.8</td>\n",
              "      <td>Virginica</td>\n",
              "    </tr>\n",
              "  </tbody>\n",
              "</table>\n",
              "<p>150 rows × 5 columns</p>\n",
              "</div>\n",
              "      <button class=\"colab-df-convert\" onclick=\"convertToInteractive('df-9f306869-7229-435c-9a2a-af1231f5b760')\"\n",
              "              title=\"Convert this dataframe to an interactive table.\"\n",
              "              style=\"display:none;\">\n",
              "        \n",
              "  <svg xmlns=\"http://www.w3.org/2000/svg\" height=\"24px\"viewBox=\"0 0 24 24\"\n",
              "       width=\"24px\">\n",
              "    <path d=\"M0 0h24v24H0V0z\" fill=\"none\"/>\n",
              "    <path d=\"M18.56 5.44l.94 2.06.94-2.06 2.06-.94-2.06-.94-.94-2.06-.94 2.06-2.06.94zm-11 1L8.5 8.5l.94-2.06 2.06-.94-2.06-.94L8.5 2.5l-.94 2.06-2.06.94zm10 10l.94 2.06.94-2.06 2.06-.94-2.06-.94-.94-2.06-.94 2.06-2.06.94z\"/><path d=\"M17.41 7.96l-1.37-1.37c-.4-.4-.92-.59-1.43-.59-.52 0-1.04.2-1.43.59L10.3 9.45l-7.72 7.72c-.78.78-.78 2.05 0 2.83L4 21.41c.39.39.9.59 1.41.59.51 0 1.02-.2 1.41-.59l7.78-7.78 2.81-2.81c.8-.78.8-2.07 0-2.86zM5.41 20L4 18.59l7.72-7.72 1.47 1.35L5.41 20z\"/>\n",
              "  </svg>\n",
              "      </button>\n",
              "      \n",
              "  <style>\n",
              "    .colab-df-container {\n",
              "      display:flex;\n",
              "      flex-wrap:wrap;\n",
              "      gap: 12px;\n",
              "    }\n",
              "\n",
              "    .colab-df-convert {\n",
              "      background-color: #E8F0FE;\n",
              "      border: none;\n",
              "      border-radius: 50%;\n",
              "      cursor: pointer;\n",
              "      display: none;\n",
              "      fill: #1967D2;\n",
              "      height: 32px;\n",
              "      padding: 0 0 0 0;\n",
              "      width: 32px;\n",
              "    }\n",
              "\n",
              "    .colab-df-convert:hover {\n",
              "      background-color: #E2EBFA;\n",
              "      box-shadow: 0px 1px 2px rgba(60, 64, 67, 0.3), 0px 1px 3px 1px rgba(60, 64, 67, 0.15);\n",
              "      fill: #174EA6;\n",
              "    }\n",
              "\n",
              "    [theme=dark] .colab-df-convert {\n",
              "      background-color: #3B4455;\n",
              "      fill: #D2E3FC;\n",
              "    }\n",
              "\n",
              "    [theme=dark] .colab-df-convert:hover {\n",
              "      background-color: #434B5C;\n",
              "      box-shadow: 0px 1px 3px 1px rgba(0, 0, 0, 0.15);\n",
              "      filter: drop-shadow(0px 1px 2px rgba(0, 0, 0, 0.3));\n",
              "      fill: #FFFFFF;\n",
              "    }\n",
              "  </style>\n",
              "\n",
              "      <script>\n",
              "        const buttonEl =\n",
              "          document.querySelector('#df-9f306869-7229-435c-9a2a-af1231f5b760 button.colab-df-convert');\n",
              "        buttonEl.style.display =\n",
              "          google.colab.kernel.accessAllowed ? 'block' : 'none';\n",
              "\n",
              "        async function convertToInteractive(key) {\n",
              "          const element = document.querySelector('#df-9f306869-7229-435c-9a2a-af1231f5b760');\n",
              "          const dataTable =\n",
              "            await google.colab.kernel.invokeFunction('convertToInteractive',\n",
              "                                                     [key], {});\n",
              "          if (!dataTable) return;\n",
              "\n",
              "          const docLinkHtml = 'Like what you see? Visit the ' +\n",
              "            '<a target=\"_blank\" href=https://colab.research.google.com/notebooks/data_table.ipynb>data table notebook</a>'\n",
              "            + ' to learn more about interactive tables.';\n",
              "          element.innerHTML = '';\n",
              "          dataTable['output_type'] = 'display_data';\n",
              "          await google.colab.output.renderOutput(dataTable, element);\n",
              "          const docLink = document.createElement('div');\n",
              "          docLink.innerHTML = docLinkHtml;\n",
              "          element.appendChild(docLink);\n",
              "        }\n",
              "      </script>\n",
              "    </div>\n",
              "  </div>\n",
              "  "
            ]
          },
          "metadata": {},
          "execution_count": 15
        }
      ]
    },
    {
      "cell_type": "code",
      "source": [
        "import pandas as pd\n",
        "data['abbrev'] = (data.variety.apply(lambda x:x.replace('Iris-','')))#apply is a function of pandas \n",
        "# lambda is a function in a code that is used to apply lambda(x:2 if (2>3):3)\n",
        "small_data = pd.concat([data.iloc[:2],data.iloc[:-2]])# to concat 2 datasets \n",
        "print(small_data)"
      ],
      "metadata": {
        "colab": {
          "base_uri": "https://localhost:8080/"
        },
        "id": "KpcKFmVahiEX",
        "outputId": "cc3ea9be-46dd-499f-a090-c3beb35fe947"
      },
      "execution_count": 18,
      "outputs": [
        {
          "output_type": "stream",
          "name": "stdout",
          "text": [
            "     sepal.length  sepal.width  petal.length  petal.width    variety  \\\n",
            "0             5.1          3.5           1.4          0.2     Setosa   \n",
            "1             4.9          3.0           1.4          0.2     Setosa   \n",
            "0             5.1          3.5           1.4          0.2     Setosa   \n",
            "1             4.9          3.0           1.4          0.2     Setosa   \n",
            "2             4.7          3.2           1.3          0.2     Setosa   \n",
            "..            ...          ...           ...          ...        ...   \n",
            "143           6.8          3.2           5.9          2.3  Virginica   \n",
            "144           6.7          3.3           5.7          2.5  Virginica   \n",
            "145           6.7          3.0           5.2          2.3  Virginica   \n",
            "146           6.3          2.5           5.0          1.9  Virginica   \n",
            "147           6.5          3.0           5.2          2.0  Virginica   \n",
            "\n",
            "        abbrev  \n",
            "0       Setosa  \n",
            "1       Setosa  \n",
            "0       Setosa  \n",
            "1       Setosa  \n",
            "2       Setosa  \n",
            "..         ...  \n",
            "143  Virginica  \n",
            "144  Virginica  \n",
            "145  Virginica  \n",
            "146  Virginica  \n",
            "147  Virginica  \n",
            "\n",
            "[150 rows x 6 columns]\n"
          ]
        }
      ]
    },
    {
      "cell_type": "markdown",
      "source": [
        "group by species "
      ],
      "metadata": {
        "id": "B7K7q_WAi6ll"
      }
    },
    {
      "cell_type": "code",
      "source": [
        "group_sizes  = (data.groupby('variety').size())# keyword to count, is .size and \n",
        "print(data.mean())#calculates the mean of of all the colums similarly median and mode can be calculated\n",
        "print(data.mode())\n",
        "\n",
        "\n",
        "# all the above can be done by \n",
        "print(data.describe())\n",
        "data.columns = [\"\",\"sepal_length\",'sepal_width',\"petal_length\",\"petal_width\",\"variety\"]\n",
        "data"
      ],
      "metadata": {
        "colab": {
          "base_uri": "https://localhost:8080/",
          "height": 790
        },
        "id": "0GkS3k0vi8RQ",
        "outputId": "a7aaefee-df48-4cc2-c6fd-a8d2d6c9b23c"
      },
      "execution_count": 31,
      "outputs": [
        {
          "output_type": "stream",
          "name": "stdout",
          "text": [
            "                5.843333\n",
            "sepal_length    3.057333\n",
            "sepal_width     3.758000\n",
            "petal_length    1.199333\n",
            "dtype: float64\n",
            "        sepal_length  sepal_width  petal_length petal_width     variety\n",
            "0  5.0           3.0          1.4           0.2      Setosa      Setosa\n",
            "1  NaN           NaN          1.5           NaN  Versicolor  Versicolor\n",
            "2  NaN           NaN          NaN           NaN   Virginica   Virginica\n",
            "                   sepal_length  sepal_width  petal_length\n",
            "count  150.000000    150.000000   150.000000    150.000000\n",
            "mean     5.843333      3.057333     3.758000      1.199333\n",
            "std      0.828066      0.435866     1.765298      0.762238\n",
            "min      4.300000      2.000000     1.000000      0.100000\n",
            "25%      5.100000      2.800000     1.600000      0.300000\n",
            "50%      5.800000      3.000000     4.350000      1.300000\n",
            "75%      6.400000      3.300000     5.100000      1.800000\n",
            "max      7.900000      4.400000     6.900000      2.500000\n"
          ]
        },
        {
          "output_type": "stream",
          "name": "stderr",
          "text": [
            "<ipython-input-31-c67204c35094>:2: FutureWarning: The default value of numeric_only in DataFrame.mean is deprecated. In a future version, it will default to False. In addition, specifying 'numeric_only=None' is deprecated. Select only valid columns or specify the value of numeric_only to silence this warning.\n",
            "  print(data.mean())#calculates the mean of of all the colums similarly median and mode can be calculated\n"
          ]
        },
        {
          "output_type": "execute_result",
          "data": {
            "text/plain": [
              "          sepal_length  sepal_width  petal_length petal_width    variety\n",
              "0    5.1           3.5          1.4           0.2      Setosa     Setosa\n",
              "1    4.9           3.0          1.4           0.2      Setosa     Setosa\n",
              "2    4.7           3.2          1.3           0.2      Setosa     Setosa\n",
              "3    4.6           3.1          1.5           0.2      Setosa     Setosa\n",
              "4    5.0           3.6          1.4           0.2      Setosa     Setosa\n",
              "..   ...           ...          ...           ...         ...        ...\n",
              "145  6.7           3.0          5.2           2.3   Virginica  Virginica\n",
              "146  6.3           2.5          5.0           1.9   Virginica  Virginica\n",
              "147  6.5           3.0          5.2           2.0   Virginica  Virginica\n",
              "148  6.2           3.4          5.4           2.3   Virginica  Virginica\n",
              "149  5.9           3.0          5.1           1.8   Virginica  Virginica\n",
              "\n",
              "[150 rows x 6 columns]"
            ],
            "text/html": [
              "\n",
              "  <div id=\"df-e6e4e5a4-53b4-4098-984c-8bfe42b3b03b\">\n",
              "    <div class=\"colab-df-container\">\n",
              "      <div>\n",
              "<style scoped>\n",
              "    .dataframe tbody tr th:only-of-type {\n",
              "        vertical-align: middle;\n",
              "    }\n",
              "\n",
              "    .dataframe tbody tr th {\n",
              "        vertical-align: top;\n",
              "    }\n",
              "\n",
              "    .dataframe thead th {\n",
              "        text-align: right;\n",
              "    }\n",
              "</style>\n",
              "<table border=\"1\" class=\"dataframe\">\n",
              "  <thead>\n",
              "    <tr style=\"text-align: right;\">\n",
              "      <th></th>\n",
              "      <th></th>\n",
              "      <th>sepal_length</th>\n",
              "      <th>sepal_width</th>\n",
              "      <th>petal_length</th>\n",
              "      <th>petal_width</th>\n",
              "      <th>variety</th>\n",
              "    </tr>\n",
              "  </thead>\n",
              "  <tbody>\n",
              "    <tr>\n",
              "      <th>0</th>\n",
              "      <td>5.1</td>\n",
              "      <td>3.5</td>\n",
              "      <td>1.4</td>\n",
              "      <td>0.2</td>\n",
              "      <td>Setosa</td>\n",
              "      <td>Setosa</td>\n",
              "    </tr>\n",
              "    <tr>\n",
              "      <th>1</th>\n",
              "      <td>4.9</td>\n",
              "      <td>3.0</td>\n",
              "      <td>1.4</td>\n",
              "      <td>0.2</td>\n",
              "      <td>Setosa</td>\n",
              "      <td>Setosa</td>\n",
              "    </tr>\n",
              "    <tr>\n",
              "      <th>2</th>\n",
              "      <td>4.7</td>\n",
              "      <td>3.2</td>\n",
              "      <td>1.3</td>\n",
              "      <td>0.2</td>\n",
              "      <td>Setosa</td>\n",
              "      <td>Setosa</td>\n",
              "    </tr>\n",
              "    <tr>\n",
              "      <th>3</th>\n",
              "      <td>4.6</td>\n",
              "      <td>3.1</td>\n",
              "      <td>1.5</td>\n",
              "      <td>0.2</td>\n",
              "      <td>Setosa</td>\n",
              "      <td>Setosa</td>\n",
              "    </tr>\n",
              "    <tr>\n",
              "      <th>4</th>\n",
              "      <td>5.0</td>\n",
              "      <td>3.6</td>\n",
              "      <td>1.4</td>\n",
              "      <td>0.2</td>\n",
              "      <td>Setosa</td>\n",
              "      <td>Setosa</td>\n",
              "    </tr>\n",
              "    <tr>\n",
              "      <th>...</th>\n",
              "      <td>...</td>\n",
              "      <td>...</td>\n",
              "      <td>...</td>\n",
              "      <td>...</td>\n",
              "      <td>...</td>\n",
              "      <td>...</td>\n",
              "    </tr>\n",
              "    <tr>\n",
              "      <th>145</th>\n",
              "      <td>6.7</td>\n",
              "      <td>3.0</td>\n",
              "      <td>5.2</td>\n",
              "      <td>2.3</td>\n",
              "      <td>Virginica</td>\n",
              "      <td>Virginica</td>\n",
              "    </tr>\n",
              "    <tr>\n",
              "      <th>146</th>\n",
              "      <td>6.3</td>\n",
              "      <td>2.5</td>\n",
              "      <td>5.0</td>\n",
              "      <td>1.9</td>\n",
              "      <td>Virginica</td>\n",
              "      <td>Virginica</td>\n",
              "    </tr>\n",
              "    <tr>\n",
              "      <th>147</th>\n",
              "      <td>6.5</td>\n",
              "      <td>3.0</td>\n",
              "      <td>5.2</td>\n",
              "      <td>2.0</td>\n",
              "      <td>Virginica</td>\n",
              "      <td>Virginica</td>\n",
              "    </tr>\n",
              "    <tr>\n",
              "      <th>148</th>\n",
              "      <td>6.2</td>\n",
              "      <td>3.4</td>\n",
              "      <td>5.4</td>\n",
              "      <td>2.3</td>\n",
              "      <td>Virginica</td>\n",
              "      <td>Virginica</td>\n",
              "    </tr>\n",
              "    <tr>\n",
              "      <th>149</th>\n",
              "      <td>5.9</td>\n",
              "      <td>3.0</td>\n",
              "      <td>5.1</td>\n",
              "      <td>1.8</td>\n",
              "      <td>Virginica</td>\n",
              "      <td>Virginica</td>\n",
              "    </tr>\n",
              "  </tbody>\n",
              "</table>\n",
              "<p>150 rows × 6 columns</p>\n",
              "</div>\n",
              "      <button class=\"colab-df-convert\" onclick=\"convertToInteractive('df-e6e4e5a4-53b4-4098-984c-8bfe42b3b03b')\"\n",
              "              title=\"Convert this dataframe to an interactive table.\"\n",
              "              style=\"display:none;\">\n",
              "        \n",
              "  <svg xmlns=\"http://www.w3.org/2000/svg\" height=\"24px\"viewBox=\"0 0 24 24\"\n",
              "       width=\"24px\">\n",
              "    <path d=\"M0 0h24v24H0V0z\" fill=\"none\"/>\n",
              "    <path d=\"M18.56 5.44l.94 2.06.94-2.06 2.06-.94-2.06-.94-.94-2.06-.94 2.06-2.06.94zm-11 1L8.5 8.5l.94-2.06 2.06-.94-2.06-.94L8.5 2.5l-.94 2.06-2.06.94zm10 10l.94 2.06.94-2.06 2.06-.94-2.06-.94-.94-2.06-.94 2.06-2.06.94z\"/><path d=\"M17.41 7.96l-1.37-1.37c-.4-.4-.92-.59-1.43-.59-.52 0-1.04.2-1.43.59L10.3 9.45l-7.72 7.72c-.78.78-.78 2.05 0 2.83L4 21.41c.39.39.9.59 1.41.59.51 0 1.02-.2 1.41-.59l7.78-7.78 2.81-2.81c.8-.78.8-2.07 0-2.86zM5.41 20L4 18.59l7.72-7.72 1.47 1.35L5.41 20z\"/>\n",
              "  </svg>\n",
              "      </button>\n",
              "      \n",
              "  <style>\n",
              "    .colab-df-container {\n",
              "      display:flex;\n",
              "      flex-wrap:wrap;\n",
              "      gap: 12px;\n",
              "    }\n",
              "\n",
              "    .colab-df-convert {\n",
              "      background-color: #E8F0FE;\n",
              "      border: none;\n",
              "      border-radius: 50%;\n",
              "      cursor: pointer;\n",
              "      display: none;\n",
              "      fill: #1967D2;\n",
              "      height: 32px;\n",
              "      padding: 0 0 0 0;\n",
              "      width: 32px;\n",
              "    }\n",
              "\n",
              "    .colab-df-convert:hover {\n",
              "      background-color: #E2EBFA;\n",
              "      box-shadow: 0px 1px 2px rgba(60, 64, 67, 0.3), 0px 1px 3px 1px rgba(60, 64, 67, 0.15);\n",
              "      fill: #174EA6;\n",
              "    }\n",
              "\n",
              "    [theme=dark] .colab-df-convert {\n",
              "      background-color: #3B4455;\n",
              "      fill: #D2E3FC;\n",
              "    }\n",
              "\n",
              "    [theme=dark] .colab-df-convert:hover {\n",
              "      background-color: #434B5C;\n",
              "      box-shadow: 0px 1px 3px 1px rgba(0, 0, 0, 0.15);\n",
              "      filter: drop-shadow(0px 1px 2px rgba(0, 0, 0, 0.3));\n",
              "      fill: #FFFFFF;\n",
              "    }\n",
              "  </style>\n",
              "\n",
              "      <script>\n",
              "        const buttonEl =\n",
              "          document.querySelector('#df-e6e4e5a4-53b4-4098-984c-8bfe42b3b03b button.colab-df-convert');\n",
              "        buttonEl.style.display =\n",
              "          google.colab.kernel.accessAllowed ? 'block' : 'none';\n",
              "\n",
              "        async function convertToInteractive(key) {\n",
              "          const element = document.querySelector('#df-e6e4e5a4-53b4-4098-984c-8bfe42b3b03b');\n",
              "          const dataTable =\n",
              "            await google.colab.kernel.invokeFunction('convertToInteractive',\n",
              "                                                     [key], {});\n",
              "          if (!dataTable) return;\n",
              "\n",
              "          const docLinkHtml = 'Like what you see? Visit the ' +\n",
              "            '<a target=\"_blank\" href=https://colab.research.google.com/notebooks/data_table.ipynb>data table notebook</a>'\n",
              "            + ' to learn more about interactive tables.';\n",
              "          element.innerHTML = '';\n",
              "          dataTable['output_type'] = 'display_data';\n",
              "          await google.colab.output.renderOutput(dataTable, element);\n",
              "          const docLink = document.createElement('div');\n",
              "          docLink.innerHTML = docLinkHtml;\n",
              "          element.appendChild(docLink);\n",
              "        }\n",
              "      </script>\n",
              "    </div>\n",
              "  </div>\n",
              "  "
            ]
          },
          "metadata": {},
          "execution_count": 31
        }
      ]
    },
    {
      "cell_type": "code",
      "source": [
        "#sampling data\n",
        "\n",
        "sample = (data.sample(n=5,replace=False,random_state=42))# replacement is false i.e not getting it back \n",
        "print(sample)"
      ],
      "metadata": {
        "colab": {
          "base_uri": "https://localhost:8080/"
        },
        "id": "E36DloMUkE6C",
        "outputId": "83de2226-ed21-4f09-a020-77de270a1049"
      },
      "execution_count": 32,
      "outputs": [
        {
          "output_type": "stream",
          "name": "stdout",
          "text": [
            "          sepal_length  sepal_width  petal_length petal_width     variety\n",
            "73   6.1           2.8          4.7           1.2  Versicolor  Versicolor\n",
            "18   5.7           3.8          1.7           0.3      Setosa      Setosa\n",
            "118  7.7           2.6          6.9           2.3   Virginica   Virginica\n",
            "78   6.0           2.9          4.5           1.5  Versicolor  Versicolor\n",
            "76   6.8           2.8          4.8           1.4  Versicolor  Versicolor\n"
          ]
        }
      ]
    },
    {
      "cell_type": "code",
      "source": [
        "import matplotlib.pyplot as plt\n",
        "import pandas as pd\n",
        "data = pd.read_csv('/content/iris.csv')\n",
        "plt.plot(data['sepal.length'],data['sepal.width'],marker='o',label='sapel')\n",
        "plt.plot(data['petal.length'],data['petal.width'],marker='o',label='petal')\n",
        "\n",
        "plt.hist(data['sepal.length'],bins=25)#width if the bar of the histogram , 25 units \n"
      ],
      "metadata": {
        "colab": {
          "base_uri": "https://localhost:8080/",
          "height": 534
        },
        "id": "SWSBn89L7XgJ",
        "outputId": "48c5f1b4-9c86-49f9-d078-81bf3f237ffa"
      },
      "execution_count": 37,
      "outputs": [
        {
          "output_type": "execute_result",
          "data": {
            "text/plain": [
              "(array([ 4.,  1.,  6.,  5., 16.,  9.,  5.,  6.,  7., 14.,  7.,  9.,  6.,\n",
              "        13.,  7.,  7.,  8.,  3.,  5.,  1.,  4.,  1.,  1.,  4.,  1.]),\n",
              " array([4.3  , 4.444, 4.588, 4.732, 4.876, 5.02 , 5.164, 5.308, 5.452,\n",
              "        5.596, 5.74 , 5.884, 6.028, 6.172, 6.316, 6.46 , 6.604, 6.748,\n",
              "        6.892, 7.036, 7.18 , 7.324, 7.468, 7.612, 7.756, 7.9  ]),\n",
              " <BarContainer object of 25 artists>)"
            ]
          },
          "metadata": {},
          "execution_count": 37
        },
        {
          "output_type": "display_data",
          "data": {
            "text/plain": [
              "<Figure size 640x480 with 1 Axes>"
            ],
            "image/png": "[encoded data removed]"
          },
          "metadata": {}
        }
      ]
    }
  ]
}